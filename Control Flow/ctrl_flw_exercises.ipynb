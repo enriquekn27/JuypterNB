{
 "cells": [
  {
   "cell_type": "code",
   "execution_count": null,
   "metadata": {},
   "outputs": [],
   "source": [
    "Problems by Enrique Kin"
   ]
  },
  {
   "cell_type": "markdown",
   "metadata": {},
   "source": [
    "Data Science Fundamentals: Python |\n",
    "[Table of Contents](../index.ipynb)\n",
    "- - - \n",
    "<!--NAVIGATION-->\n",
    "Module 3. [Control Flow](./01_mod_control_flow.ipynb) | [Statements](./02_python_statements.ipynb) | [Functions](./03_python_functions.ipynb) | **[Exercises](./04_mod_exercises.ipynb)**"
   ]
  },
  {
   "cell_type": "markdown",
   "metadata": {},
   "source": [
    "# Control Flow Exercises"
   ]
  },
  {
   "cell_type": "markdown",
   "metadata": {},
   "source": [
    "### Exercise 1:\n",
    "Guess a number between 1 to 9 given by the user. Hint. [Random](https://docs.python.org/3/library/random.html)"
   ]
  },
  {
   "cell_type": "code",
   "execution_count": 45,
   "metadata": {},
   "outputs": [
    {
     "name": "stdout",
     "output_type": "stream",
     "text": [
      "guess a number between 1 and 10 until you get it correct1\n",
      "nope! Guess again\n",
      "guess a number between 1 and 10 until you get it correct2\n",
      "nope! Guess again\n",
      "guess a number between 1 and 10 until you get it correct3\n",
      "nope! Guess again\n",
      "guess a number between 1 and 10 until you get it correct4\n",
      "nope! Guess again\n",
      "Good job you guessed the number!\n"
     ]
    }
   ],
   "source": [
    "#this imports a random integer generator, aliased as \"rng\".\n",
    "from random import randint as rng\n",
    "#Here, a random number (randNum) can be assigned using rng(1,9) specifying the start and end points as 1 to 9.\n",
    "randNum = rng(1,9)\n",
    "guess = 0\n",
    "while randNum != guess:\n",
    "    guess = int(input(\"guess a number between 1 and 10 until you get it correct\"))\n",
    "    print(\"nope! Guess again\")\n",
    "print(\"Good job you guessed the number!\")\n"
   ]
  },
  {
   "cell_type": "markdown",
   "metadata": {},
   "source": [
    "### Exercise 2:\n",
    "Check the validity of password input by the user. Hint. [Re](https://docs.python.org/3/library/re.html) which does matching operations much like Perl.\n",
    "\n",
    "Validation:\n",
    "\n",
    "- At least 1 letter between [a-z] and 1 letter between [A-Z].\n",
    "- At least 1 number between [0-9].\n",
    "- At least 1 character from [$#@].\n",
    "- Minimum length 6 characters.\n",
    "- Maximum length 16 characters."
   ]
  },
  {
   "cell_type": "code",
   "execution_count": 46,
   "metadata": {},
   "outputs": [
    {
     "name": "stdout",
     "output_type": "stream",
     "text": [
      "Please enter a valid password:\n",
      "Valid passwords are:\n",
      "\t6-16 characters in length,\n",
      "\tContain 1+ numbers,\n",
      "\t1+ character from [$#@!], and \n",
      "\tAt least 1 upper and 1 lowercase letter.\n",
      "Input: EllaLuna277!\n",
      "Not Valid, Enter a valid passowrd\n"
     ]
    }
   ],
   "source": [
    "#This exercise is difficult for beginners, as it utilizes Regex. If you don't get it at first, thats okay, do your best.\n",
    "\n",
    "import re \n",
    "pwd = input(\"Please enter a valid password:\\nValid passwords are:\\n\\t6-16 characters in length,\\n\\tContain 1+ numbers,\\n\\t1+ character from [$#@!], and \\n\\tAt least 1 upper and 1 lowercase letter.\\nInput: \")\n",
    "\n",
    "#regex is encapsulated within the match method\n",
    "#'?' Matches 'if' matches next, but doesn’t consume any of the string. This is called a lookahead assertion.\n",
    "# The '*', '+', and '?' qualifiers are all greedy; they match as much text as possible. \n",
    "# Sometimes this behaviour isn’t desired; if the RE <.*> is matched against '<a> b <c>', \n",
    "# it will match the entire string, and not just '<a>'. \n",
    "# Adding ? after the qualifier makes it perform the match in non-greedy or minimal fashion; as few characters as possible will be matched. Using the RE <.*?> will match only '<a>'.\n",
    "# Matches any Unicode decimal digit (that is, any character in Unicode character category [Nd]). \n",
    "# This includes [0-9], and also many other digit characters. If the ASCII flag is used only [0-9] is matched.\n",
    "# Pattern.match(string[, pos[, endpos]])\n",
    "# If zero or more characters at the beginning of string match this regular expression, return a corresponding match object. \n",
    "# Return None if the string does not match the pattern; note that this is different from a zero-length match.\n",
    "if re.match(r\"^(?=.*[A-Z])(?=.*[a-z])(?=.*[@#%])[\\w\\d@#$]{6,16}$\",pwd):\n",
    "    print(\"Valid Password\")\n",
    "else:\n",
    "    print(\"Not Valid, Enter a valid passowrd\")\n",
    "\n",
    "    \n",
    "    \n",
    "\n",
    "# #Uses Recursion to validate password\n",
    "# def validate():\n",
    "#        while True:\n",
    "#         password = input(\"Enter a password: \")\n",
    "#         if len(pwd) <= 6 and len (pwd) >= 16:\n",
    "#             print(\"Make sure your password is at lest 8 letters\")\n",
    "#         elif not password.isdigit():\n",
    "#             print(\"Make sure your password has a number in it\")\n",
    "#         elif not password.isupper(): \n",
    "#             print(\"Make sure your password has a capital letter in it\")\n",
    "#         else:\n",
    "#             print(\"Your password seems fine\")\n",
    "#             break\n",
    "# validate()\n"
   ]
  },
  {
   "cell_type": "markdown",
   "metadata": {},
   "source": [
    "### Exercise 3:\n",
    "Get input of the age of 3 people by user and determine oldest and youngest among them"
   ]
  },
  {
   "cell_type": "code",
   "execution_count": 49,
   "metadata": {},
   "outputs": [
    {
     "name": "stdout",
     "output_type": "stream",
     "text": [
      "Enter First Person's Age : 99\n",
      "Enter Second Person's Age : 0\n",
      "Enter Third Person's Age : 87\n",
      "number1 is the oldest\n",
      "number2 is the youngest\n"
     ]
    }
   ],
   "source": [
    "\n",
    "\n",
    "number1 = int(input(\"Enter First Person's Age : \"))\n",
    "number2 = int(input(\"Enter Second Person's Age : \"))\n",
    "number3 = int(input(\"Enter Third Person's Age : \"))\n",
    "\n",
    "if number1 > number2 and number1 > number3:\n",
    "    print(\"number1 is the oldest\")\n",
    "elif number2 > number1 and number2 > number3:\n",
    "            print(\"number2 is the oldest\")\n",
    "elif number3 > number1 and number3> number2:\n",
    "            print(\"number3 is the oldest\")\n",
    "    \n",
    "    \n",
    "if number1 < number2 and number1 < number3:\n",
    "    print(\"number1 is the youngest\")\n",
    "elif number2 < number1 and number2 < number3:\n",
    "            print(\"number2 is the youngest\")\n",
    "elif number3 < number1 and number3 < number2:\n",
    "            print(\"number3 is the youngest\")"
   ]
  },
  {
   "cell_type": "markdown",
   "metadata": {},
   "source": [
    "### Exercise 4:\n",
    "A student will not be allowed to sit in exam if his/her attendance is less than 75%.\n",
    "\n",
    "Take following input from user\n",
    "\n",
    "- Number of classes held\n",
    "- Number of classes attended.\n",
    "- And print percentage of class attended\n",
    "- Is student is allowed to sit in exam or not?"
   ]
  },
  {
   "cell_type": "code",
   "execution_count": 66,
   "metadata": {},
   "outputs": [
    {
     "name": "stdout",
     "output_type": "stream",
     "text": [
      "How many classes were held?:100\n",
      "How many classes did the student attend?3\n",
      "3.0\n",
      "Not allwed to sit on exam\n"
     ]
    }
   ],
   "source": [
    "#number of classes held:\n",
    "classHeld= int(input(\"How many classes were held?:\"))\n",
    "#number of classes attended:\n",
    "classAtten= int(input(\"How many classes did the student attend?\"))\n",
    "#percentage of classes\n",
    "perc=(classAtten)/classHeld*100\n",
    "print(perc)\n",
    "#Is student allowed to sit in exam?\n",
    "if perc < 75:\n",
    "    print(\"Not allwed to sit on exam\")\n",
    "else:\n",
    "    print(\"Allowed to sit in exam\")"
   ]
  },
  {
   "cell_type": "markdown",
   "metadata": {},
   "source": [
    "### Exercise 5:\n",
    "Get an integer N from the user and perform the following actions:\n",
    "\n",
    "Find out - \n",
    "- if N is odd, print \"weird\"\n",
    "- if N is even and in the inclusive range of 2 to 5, print \"Not Weird\"\n",
    "- if N is even and in the inclusive range of 6 to 20, print \"Weird\"\n",
    "- if N is even and greater than 20, print \"Not Weird\""
   ]
  },
  {
   "cell_type": "code",
   "execution_count": 79,
   "metadata": {},
   "outputs": [
    {
     "name": "stdout",
     "output_type": "stream",
     "text": [
      "4\n",
      "not wierd\n"
     ]
    }
   ],
   "source": [
    "# Given an integer, n, perform the following conditional actions:\n",
    "n=int(input())\n",
    "\n",
    "# If n is odd, print Weird\n",
    "if n%2!=0:\n",
    "    print(\"wierd\")\n",
    "# If n is even and in the inclusive range of 2 to 5, print Not Weird\n",
    "else:\n",
    "    if n>=2 and n<=5:\n",
    "        print(\"not wierd\")\n",
    "    # If n is even and in the inclusive range of 6 to 20, print Weird\n",
    "    elif n>=6 and n<=20:\n",
    "        print(\"weird\")\n",
    "    # If n is even and greater than 20, print Not Weird\n",
    "    elif n>20:\n",
    "        print(\"not weird\")\n",
    "    \n",
    "\n",
    "\n"
   ]
  },
  {
   "cell_type": "markdown",
   "metadata": {},
   "source": [
    "\n",
    "## Extra Points\n",
    "- - -"
   ]
  },
  {
   "cell_type": "markdown",
   "metadata": {},
   "source": [
    "1. ***Optional Exercise (Extra Points)***. Write a Python program to reverse a string."
   ]
  },
  {
   "cell_type": "raw",
   "metadata": {},
   "source": [
    "Sample String : \"1234abcd\"\n",
    "Expected Output : \"dcba4321\""
   ]
  },
  {
   "cell_type": "code",
   "execution_count": null,
   "metadata": {
    "collapsed": true
   },
   "outputs": [],
   "source": []
  },
  {
   "cell_type": "markdown",
   "metadata": {},
   "source": [
    "2. ***Optional Exercise (Extra Points)***. Write a Python function to multiply all the numbers in a list. "
   ]
  },
  {
   "cell_type": "raw",
   "metadata": {},
   "source": [
    "Sample List : (8, 2, 3, -1, 7)\n",
    "Expected Output : -336"
   ]
  },
  {
   "cell_type": "code",
   "execution_count": null,
   "metadata": {
    "collapsed": true
   },
   "outputs": [],
   "source": []
  },
  {
   "cell_type": "markdown",
   "metadata": {},
   "source": [
    "3. ***Optional Exercise (Extra Points)***. Write a Python function that accepts a string and calculate the number of upper case letters and lower case letters."
   ]
  },
  {
   "cell_type": "raw",
   "metadata": {},
   "source": [
    "Sample String : 'The quick Brow Fox'\n",
    "Expected Output :\n",
    "No. of Upper case characters : 3\n",
    "No. of Lower case Characters : 12"
   ]
  },
  {
   "cell_type": "code",
   "execution_count": null,
   "metadata": {
    "collapsed": true
   },
   "outputs": [],
   "source": []
  },
  {
   "cell_type": "markdown",
   "metadata": {},
   "source": [
    "- - -\n",
    "\n",
    "Copyright © 2020 Qualex Consulting Services Incorporated."
   ]
  }
 ],
 "metadata": {
  "kernelspec": {
   "display_name": "Python 3",
   "language": "python",
   "name": "python3"
  },
  "language_info": {
   "codemirror_mode": {
    "name": "ipython",
    "version": 3
   },
   "file_extension": ".py",
   "mimetype": "text/x-python",
   "name": "python",
   "nbconvert_exporter": "python",
   "pygments_lexer": "ipython3",
   "version": "3.8.8"
  }
 },
 "nbformat": 4,
 "nbformat_minor": 4
}
